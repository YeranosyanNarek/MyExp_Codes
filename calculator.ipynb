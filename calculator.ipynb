{
 "cells": [
  {
   "cell_type": "code",
   "execution_count": 5,
   "metadata": {},
   "outputs": [
    {
     "name": "stdout",
     "output_type": "stream",
     "text": [
      "25\n",
      "-\n",
      "18\n",
      "=  7.0\n"
     ]
    }
   ],
   "source": [
    "x = float(input())\n",
    "a=input('')\n",
    "y = float(input())\n",
    "\n",
    "if a == '+':\n",
    "    print(\"= \", x+y)\n",
    "elif a == '-':\n",
    "    print(\"= \", x-y)\n",
    "elif a == '*':\n",
    "    print(\"= \", x*y)\n",
    "elif a == '/':\n",
    "    print(\"= \", x/y)\n",
    "else:\n",
    "    print(\"Sorry\")\n",
    "\n"
   ]
  }
 ],
 "metadata": {
  "kernelspec": {
   "display_name": "Python 3",
   "language": "python",
   "name": "python3"
  },
  "language_info": {
   "codemirror_mode": {
    "name": "ipython",
    "version": 3
   },
   "file_extension": ".py",
   "mimetype": "text/x-python",
   "name": "python",
   "nbconvert_exporter": "python",
   "pygments_lexer": "ipython3",
   "version": "3.6.5"
  }
 },
 "nbformat": 4,
 "nbformat_minor": 2
}
